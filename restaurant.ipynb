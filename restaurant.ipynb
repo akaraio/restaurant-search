{
 "cells": [
  {
   "cell_type": "code",
   "execution_count": null,
   "id": "46eeeb7e",
   "metadata": {},
   "outputs": [],
   "source": [
    "import pandas as pd"
   ]
  },
  {
   "cell_type": "code",
   "execution_count": null,
   "metadata": {},
   "outputs": [],
   "source": [
    "train_tags = []\n",
    "\n",
    "with open('data', 'r') as train_file_tags:\n",
    "    train_tags.append(train_file_tags.readlines())\n",
    "\n",
    "train_tags = [[i.rstrip() for i in item] for item in train_tags]\n",
    "train_tags = [item[i].split() for item in train_tags for i in range(len(train_tags[0]))]"
   ]
  },
  {
   "cell_type": "code",
   "execution_count": null,
   "id": "070fe299",
   "metadata": {},
   "outputs": [],
   "source": [
    "train_tokens = []\n",
    "\n",
    "with open('data', 'r') as train_file_tokens:\n",
    "    train_tokens.append(train_file_tokens.readlines())\n",
    "\n",
    "train_tokens = [[i.rstrip() for i in item] for item in train_tokens]\n",
    "train_tokens = [item[i].split() for item in train_tokens for i in range(len(train_tokens[0]))]"
   ]
  },
  {
   "cell_type": "code",
   "execution_count": null,
   "id": "58421ba0",
   "metadata": {},
   "outputs": [],
   "source": [
    "len(train_tags), len(train_tags)"
   ]
  },
  {
   "cell_type": "code",
   "execution_count": null,
   "id": "90d0f402",
   "metadata": {},
   "outputs": [],
   "source": [
    "test_tags = []\n",
    "\n",
    "with open('data', 'r') as test_file_tags:\n",
    "    test_tags.append(test_file_tags.readlines())\n",
    "\n",
    "test_tags = [[i.rstrip() for i in item] for item in test_tags]\n",
    "test_tags = [item[i].split() for item in test_tags for i in range(len(test_tags[0]))]"
   ]
  },
  {
   "cell_type": "code",
   "execution_count": null,
   "id": "72114b18",
   "metadata": {},
   "outputs": [],
   "source": [
    "test_tokens = []\n",
    "\n",
    "with open('data', 'r') as test_file_tokens:\n",
    "    test_tokens.append(test_file_tokens.readlines())\n",
    "\n",
    "test_tokens = [[i.rstrip() for i in item] for item in test_tokens]\n",
    "test_tokens = [item[i].split() for item in test_tokens for i in range(len(test_tokens[0]))]"
   ]
  },
  {
   "cell_type": "code",
   "execution_count": null,
   "id": "0f774cba",
   "metadata": {},
   "outputs": [],
   "source": [
    "len(test_tags), len(test_tags)"
   ]
  },
  {
   "cell_type": "code",
   "execution_count": null,
   "id": "9ce671e4",
   "metadata": {},
   "outputs": [],
   "source": [
    "from datasets import Dataset, DatasetDict\n",
    "\n",
    "df = pd.DataFrame({'tokens': train_tokens, 'ner_tags_str': train_tags})\n",
    "train = Dataset.from_pandas(df)\n",
    "\n",
    "df = pd.DataFrame({'tokens': test_tokens, 'ner_tags_str': test_tags})\n",
    "test = Dataset.from_pandas(df)\n",
    "\n",
    "dataset = DatasetDict({'train': train, 'test': test, 'validation': test})\n",
    "\n",
    "dataset"
   ]
  },
  {
   "cell_type": "code",
   "execution_count": null,
   "id": "2d96c484",
   "metadata": {},
   "outputs": [],
   "source": [
    "unique_tags = set()\n",
    "for tag in dataset['train']['ner_tags_str']:\n",
    "    unique_tags.update(tag)\n",
    "\n",
    "unique_tags"
   ]
  },
  {
   "cell_type": "code",
   "execution_count": null,
   "metadata": {},
   "outputs": [],
   "source": [
    "unique_tags = list(set([x[2:] for x in list(unique_tags) if x!='O']))\n",
    "unique_tags"
   ]
  },
  {
   "cell_type": "code",
   "execution_count": null,
   "id": "841a399d",
   "metadata": {},
   "outputs": [],
   "source": [
    "tag2index = {\"O\": 0}\n",
    "for i, tag in enumerate(unique_tags):\n",
    "    tag2index[f'B-{tag}'] = len(tag2index)\n",
    "    tag2index[f'I-{tag}'] = len(tag2index)\n",
    "\n",
    "tag2index"
   ]
  },
  {
   "cell_type": "code",
   "execution_count": null,
   "id": "2c67a533",
   "metadata": {},
   "outputs": [],
   "source": [
    "dataset['train'][0]"
   ]
  },
  {
   "cell_type": "code",
   "execution_count": null,
   "id": "b55af4bb",
   "metadata": {},
   "outputs": [],
   "source": [
    "index2tag = {v:k for k,v in tag2index.items()}\n",
    "index2tag"
   ]
  },
  {
   "cell_type": "code",
   "execution_count": null,
   "id": "4d0110e6",
   "metadata": {},
   "outputs": [],
   "source": [
    "dataset = dataset.map(lambda example: {\"ner_tags\": [tag2index[tag] for tag in example['ner_tags_str']]})\n",
    "dataset"
   ]
  },
  {
   "cell_type": "code",
   "execution_count": null,
   "id": "a238bf07",
   "metadata": {},
   "outputs": [],
   "source": [
    "from transformers import AutoTokenizer"
   ]
  },
  {
   "cell_type": "code",
   "execution_count": null,
   "id": "3e599b44",
   "metadata": {},
   "outputs": [],
   "source": [
    "model_ckpt = \"data\"\n",
    "tokenizer = AutoTokenizer.from_pretrained(model_ckpt)"
   ]
  },
  {
   "cell_type": "code",
   "execution_count": null,
   "id": "5e2d6356",
   "metadata": {},
   "outputs": [],
   "source": [
    "def tokenize_and_align_labels(examples):\n",
    "    tokenized_inputs = tokenizer(examples['tokens'], truncation=True, is_split_into_words=True)\n",
    "\n",
    "    labels = []\n",
    "    for i, label in enumerate(examples['ner_tags']):\n",
    "        word_ids = tokenized_inputs.word_ids(batch_index=i)\n",
    "\n",
    "        previous_word_idx = None\n",
    "        label_ids = []\n",
    "\n",
    "        for word_idx in word_ids:\n",
    "            if word_idx is None:\n",
    "                label_ids.append(-100)\n",
    "\n",
    "            elif word_idx != previous_word_idx:\n",
    "                label_ids.append(label[word_idx])\n",
    "            \n",
    "            else:\n",
    "                label_ids.append(-100)\n",
    "\n",
    "            previous_word_idx = word_idx\n",
    "        \n",
    "        labels.append(label_ids)\n",
    "\n",
    "    tokenized_inputs['labels'] = labels\n",
    "\n",
    "    return tokenized_inputs\n",
    "    \n"
   ]
  },
  {
   "cell_type": "code",
   "execution_count": null,
   "id": "dc9db746",
   "metadata": {},
   "outputs": [],
   "source": [
    "tokenized_dataset = dataset.map(tokenize_and_align_labels, batched=True)\n",
    "tokenized_dataset"
   ]
  },
  {
   "cell_type": "code",
   "execution_count": null,
   "id": "839c5c46",
   "metadata": {},
   "outputs": [],
   "source": [
    "tokenized_dataset['train'][2]"
   ]
  },
  {
   "cell_type": "code",
   "execution_count": null,
   "metadata": {},
   "outputs": [],
   "source": [
    "from transformers import DataCollatorForTokenClassification\n",
    "\n",
    "data_collator = DataCollatorForTokenClassification(tokenizer=tokenizer)"
   ]
  },
  {
   "cell_type": "code",
   "execution_count": null,
   "id": "a023da6a",
   "metadata": {},
   "outputs": [],
   "source": [
    "import evaluate\n",
    "import numpy as np\n",
    "\n",
    "metric = evaluate.load('seqeval')\n",
    "label_names = list(tag2index)\n",
    "\n",
    "def compute_metrics(eval_preds):\n",
    "    logits, labels = eval_preds\n",
    "\n",
    "    predictions = np.argmax(logits, axis=-1)\n",
    "    true_labels = [[label_names[l] for l in label if l!=-100] for label in labels]\n",
    "\n",
    "    true_predictions = [[label_names[p] for p, l in zip(prediction, label) if l != -100] \n",
    "                        for prediction, label in zip(predictions, labels)]\n",
    "    \n",
    "    all_metrics = metric.compute(predictions=true_predictions, references=true_labels)\n",
    "\n",
    "    return {\n",
    "        \"precision\": all_metrics['overall_precision'],\n",
    "        'recall': all_metrics['overall_recall'],\n",
    "        'f1': all_metrics['overall_f1'],\n",
    "        'accuracy': all_metrics['overall_accuracy'],\n",
    "    }"
   ]
  },
  {
   "cell_type": "code",
   "execution_count": null,
   "metadata": {},
   "outputs": [],
   "source": [
    "from transformers import AutoModelForTokenClassification\n",
    "\n",
    "model = AutoModelForTokenClassification.from_pretrained(model_ckpt, id2label=index2tag, label2id=tag2index)"
   ]
  },
  {
   "cell_type": "code",
   "execution_count": null,
   "id": "2f122d64",
   "metadata": {},
   "outputs": [],
   "source": [
    "from transformers import TrainingArguments, Trainer\n",
    "\n",
    "args = TrainingArguments(\"finetuned-ner\", evaluation_strategy='epoch',\n",
    "                         save_strategy='epoch',\n",
    "                         learning_rate=2e-5,\n",
    "                         num_train_epochs=3,\n",
    "                         weight_decay=0.01)"
   ]
  },
  {
   "cell_type": "code",
   "execution_count": null,
   "id": "0ecd8c9a",
   "metadata": {},
   "outputs": [],
   "source": [
    "trainer = Trainer(model=model, args=args,\n",
    "                  train_dataset=tokenized_dataset['train'],\n",
    "                  eval_dataset=tokenized_dataset['validation'],\n",
    "                  data_collator=data_collator,\n",
    "                #   compute_metrics=compute_metrics,\n",
    "                  tokenizer=tokenizer)"
   ]
  },
  {
   "cell_type": "code",
   "execution_count": null,
   "id": "9d883bec",
   "metadata": {},
   "outputs": [],
   "source": [
    "trainer.train()"
   ]
  },
  {
   "cell_type": "code",
   "execution_count": null,
   "id": "46646bbf",
   "metadata": {},
   "outputs": [],
   "source": [
    "trainer.save_model(\"data\")"
   ]
  },
  {
   "cell_type": "code",
   "execution_count": null,
   "id": "fb8021bb",
   "metadata": {},
   "outputs": [],
   "source": [
    "from transformers import pipeline\n",
    "\n",
    "checkpoint = \"data\"\n",
    "pipe = pipeline('token-classification', model=checkpoint, aggregation_strategy='simple')"
   ]
  },
  {
   "cell_type": "code",
   "execution_count": null,
   "id": "dfe11bfe",
   "metadata": {},
   "outputs": [],
   "source": [
    "pipe(\"which restaurant serves the best shushi in new york?\")"
   ]
  }
 ],
 "metadata": {
  "kernelspec": {
   "display_name": ".venv",
   "language": "python",
   "name": "python3"
  },
  "language_info": {
   "codemirror_mode": {
    "name": "ipython",
    "version": 3
   },
   "file_extension": ".py",
   "mimetype": "text/x-python",
   "name": "python",
   "nbconvert_exporter": "python",
   "pygments_lexer": "ipython3",
   "version": "3.12.8"
  }
 },
 "nbformat": 4,
 "nbformat_minor": 5
}
